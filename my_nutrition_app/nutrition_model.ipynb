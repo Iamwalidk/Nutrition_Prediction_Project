{
 "cells": [
  {
   "cell_type": "code",
   "execution_count": 20,
   "id": "b1d40f10-4ca5-4db1-a1eb-b6f7c0026f16",
   "metadata": {},
   "outputs": [
    {
     "name": "stderr",
     "output_type": "stream",
     "text": [
      "[nltk_data] Downloading package punkt to\n",
      "[nltk_data]     C:\\Users\\kaddo\\AppData\\Roaming\\nltk_data...\n",
      "[nltk_data]   Package punkt is already up-to-date!\n",
      "[nltk_data] Downloading package wordnet to\n",
      "[nltk_data]     C:\\Users\\kaddo\\AppData\\Roaming\\nltk_data...\n",
      "[nltk_data]   Package wordnet is already up-to-date!\n",
      "[nltk_data] Downloading package omw-1.4 to\n",
      "[nltk_data]     C:\\Users\\kaddo\\AppData\\Roaming\\nltk_data...\n",
      "[nltk_data]   Package omw-1.4 is already up-to-date!\n"
     ]
    }
   ],
   "source": [
    "# ----------------------------------------------------\n",
    "# 1. Imports & Setup\n",
    "# ----------------------------------------------------\n",
    "import pandas as pd\n",
    "import numpy as np\n",
    "import matplotlib.pyplot as plt\n",
    "import seaborn as sns\n",
    "import re\n",
    "import nltk\n",
    "import pickle\n",
    "import warnings\n",
    "warnings.filterwarnings(\"ignore\")\n",
    "\n",
    "# Download required NLTK resources\n",
    "nltk.download('punkt')\n",
    "nltk.download('wordnet')\n",
    "nltk.download('omw-1.4')\n",
    "from nltk.stem import WordNetLemmatizer\n",
    "\n",
    "# Machine Learning & Evaluation\n",
    "from sklearn.model_selection import train_test_split, GridSearchCV\n",
    "from sklearn.compose import ColumnTransformer\n",
    "from sklearn.pipeline import Pipeline\n",
    "from sklearn.feature_extraction.text import TfidfVectorizer\n",
    "from sklearn.preprocessing import StandardScaler\n",
    "from sklearn.multioutput import MultiOutputRegressor\n",
    "from sklearn.ensemble import RandomForestRegressor\n",
    "from sklearn.metrics import mean_absolute_error, mean_squared_error, r2_score\n",
    "\n",
    "# For alternative model: XGBoost\n",
    "from xgboost import XGBRegressor"
   ]
  },
  {
   "cell_type": "code",
   "execution_count": 21,
   "id": "44ecdd6f-5cc6-465e-b9e5-cea9df5ad4f0",
   "metadata": {},
   "outputs": [],
   "source": [
    "# ----------------------------------------------------\n",
    "# 2. Define Synonym Replacement Function with Expanded Dictionary\n",
    "# ----------------------------------------------------\n",
    "synonyms = {\n",
    "    'apples': 'apple',\n",
    "    'bananas': 'banana',\n",
    "    'tomatoes': 'tomato',\n",
    "    'strawberries': 'strawberry',\n",
    "    'blueberries': 'blueberry',\n",
    "    'oranges': 'orange',\n",
    "    'potatoes': 'potato',\n",
    "    'carrots': 'carrot',\n",
    "    'broccolis': 'broccoli',\n",
    "    'grapes': 'grape',\n",
    "    'peaches': 'peach',\n",
    "    'mangoes': 'mango',\n",
    "    'pineapples': 'pineapple',\n",
    "    'watermelons': 'watermelon',\n",
    "    'lemons': 'lemon',\n",
    "    'limes': 'lime',\n",
    "    'cherries': 'cherry',\n",
    "    'pears': 'pear',\n",
    "    'avocados': 'avocado',\n",
    "    'cucumbers': 'cucumber',\n",
    "    'bell peppers': 'pepper',\n",
    "    'peppers': 'pepper',\n",
    "    'mushrooms': 'mushroom',\n",
    "    'zucchinis': 'zucchini',\n",
    "    'onions': 'onion',\n",
    "    'garlics': 'garlic',\n",
    "    'eggs': 'egg',\n",
    "    'breads': 'bread',\n",
    "    'pizzas': 'pizza',\n",
    "    'burgers': 'burger',\n",
    "    'sandwiches': 'sandwich',\n",
    "    'cookies': 'cookie',\n",
    "    'cakes': 'cake',\n",
    "    'pies': 'pie',\n",
    "    'lettuces': 'lettuce',\n",
    "    'cabbages': 'cabbage',\n",
    "    'celeries': 'celery',\n",
    "    'sausages': 'sausage',\n",
    "    'steaks': 'steak',\n",
    "    'noodles': 'noodle',\n",
    "    'beans': 'bean',\n",
    "    'lentils': 'lentil',\n",
    "    'oats': 'oat',\n",
    "    'cereals': 'cereal',\n",
    "    'cheeses': 'cheese',\n",
    "    'yogurts': 'yogurt',\n",
    "    'butters': 'butter',\n",
    "    'salads': 'salad',\n",
    "    'soups': 'soup',\n",
    "    'stews': 'stew',\n",
    "    'chicken breasts': 'chicken breast',\n",
    "    'chicken legs': 'chicken leg',\n",
    "    'pork chops': 'pork chop',\n",
    "    'beef steaks': 'beef steak'\n",
    "}\n",
    "\n",
    "def replace_synonyms(text, synonyms_dict):\n",
    "    \"\"\"\n",
    "    Replace words in text based on a synonyms dictionary.\n",
    "    \"\"\"\n",
    "    for word, replacement in synonyms_dict.items():\n",
    "        text = re.sub(r'\\b' + re.escape(word) + r'\\b', replacement, text)\n",
    "    return text"
   ]
  },
  {
   "cell_type": "code",
   "execution_count": 22,
   "id": "3bcf1b51-68ad-4e58-ac54-a2e36db1ef26",
   "metadata": {},
   "outputs": [],
   "source": [
    "# ----------------------------------------------------\n",
    "# 3. Custom Text Preprocessing Function with Lemmatization & Synonym Replacement\n",
    "# ----------------------------------------------------\n",
    "def lemmatize_text(text):\n",
    "    \"\"\"\n",
    "    Convert text to lowercase, replace synonyms, remove punctuation,\n",
    "    tokenize, and lemmatize.\n",
    "    \"\"\"\n",
    "    text = text.lower()\n",
    "    text = replace_synonyms(text, synonyms)\n",
    "    text = re.sub(r'[^a-z0-9\\s]', '', text)\n",
    "    tokens = nltk.word_tokenize(text)\n",
    "    lemmatizer = WordNetLemmatizer()\n",
    "    lem_tokens = [lemmatizer.lemmatize(tok) for tok in tokens]\n",
    "    return ' '.join(lem_tokens)"
   ]
  },
  {
   "cell_type": "code",
   "execution_count": 23,
   "id": "7c827c63-4395-458d-ac81-1a7db9c1eb5e",
   "metadata": {},
   "outputs": [
    {
     "name": "stdout",
     "output_type": "stream",
     "text": [
      "First few rows:\n",
      "                    Food Measure  Grams Calories Protein Fat Sat.Fat Fiber  \\\n",
      "0             Cows' milk   1 qt.    976      660      32  40      36     0   \n",
      "1              Milk skim   1 qt.    984      360      36   t       t     0   \n",
      "2             Buttermilk   1 cup    246      127       9   5       4     0   \n",
      "3  Evaporated, undiluted   1 cup    252      345      16  20      18     0   \n",
      "4         Fortified milk  6 cups  1,419    1,373      89  42      23   1.4   \n",
      "\n",
      "  Carbs        Category  \n",
      "0    48  Dairy products  \n",
      "1    52  Dairy products  \n",
      "2    13  Dairy products  \n",
      "3    24  Dairy products  \n",
      "4   119  Dairy products  \n",
      "\n",
      "DataFrame info:\n",
      "<class 'pandas.core.frame.DataFrame'>\n",
      "RangeIndex: 335 entries, 0 to 334\n",
      "Data columns (total 10 columns):\n",
      " #   Column    Non-Null Count  Dtype \n",
      "---  ------    --------------  ----- \n",
      " 0   Food      335 non-null    object\n",
      " 1   Measure   335 non-null    object\n",
      " 2   Grams     335 non-null    object\n",
      " 3   Calories  334 non-null    object\n",
      " 4   Protein   335 non-null    object\n",
      " 5   Fat       335 non-null    object\n",
      " 6   Sat.Fat   333 non-null    object\n",
      " 7   Fiber     335 non-null    object\n",
      " 8   Carbs     335 non-null    object\n",
      " 9   Category  335 non-null    object\n",
      "dtypes: object(10)\n",
      "memory usage: 26.3+ KB\n",
      "None\n",
      "\n",
      "Column names: ['Food', 'Measure', 'Grams', 'Calories', 'Protein', 'Fat', 'Sat.Fat', 'Fiber', 'Carbs', 'Category']\n",
      "\n",
      "Missing values per column:\n",
      "Food        0\n",
      "Measure     0\n",
      "Grams       0\n",
      "Calories    1\n",
      "Protein     0\n",
      "Fat         0\n",
      "Sat.Fat     2\n",
      "Fiber       0\n",
      "Carbs       0\n",
      "Category    0\n",
      "dtype: int64\n"
     ]
    }
   ],
   "source": [
    "# ----------------------------------------------------\n",
    "# 4. Data Acquisition, Initial Cleaning, and Feature Engineering\n",
    "# ----------------------------------------------------\n",
    "df = pd.read_csv(r\"C:\\Users\\kaddo\\Desktop\\nutrition project\\Dataset\\nutrients_csvfile.csv\")\n",
    "\n",
    "print(\"First few rows:\")\n",
    "print(df.head())\n",
    "print(\"\\nDataFrame info:\")\n",
    "print(df.info())\n",
    "print(\"\\nColumn names:\", df.columns.tolist())\n",
    "print(\"\\nMissing values per column:\")\n",
    "print(df.isnull().sum())\n",
    "\n",
    "# Drop duplicate rows\n",
    "df.drop_duplicates(inplace=True)\n",
    "\n",
    "# Normalize textual columns\n",
    "df['Food'] = df['Food'].str.lower().str.strip()\n",
    "df['Measure'] = df['Measure'].str.lower().str.strip()\n",
    "df['Category'] = df['Category'].str.strip()\n",
    "\n",
    "# Convert 'Grams' to numeric (removing any commas if necessary)\n",
    "df['Grams'] = pd.to_numeric(df['Grams'].str.replace(',', ''), errors='coerce')\n",
    "\n",
    "# Create a new combined text feature 'description'\n",
    "df['description'] = df['Food'] + \" \" + df['Category'] + \" \" + df['Measure']\n",
    "\n",
    "# Create additional numeric feature\n",
    "df['name_length'] = df['Food'].apply(len)"
   ]
  },
  {
   "cell_type": "code",
   "execution_count": 24,
   "id": "84233bc4-a58e-4b5e-900b-ac2175d67c63",
   "metadata": {},
   "outputs": [
    {
     "name": "stdout",
     "output_type": "stream",
     "text": [
      "\n",
      "Missing values in numeric columns after cleaning:\n",
      "Calories    0\n",
      "Protein     0\n",
      "Fat         0\n",
      "Carbs       0\n",
      "dtype: int64\n",
      "\n",
      "DataFrame shape after cleaning: (335, 12)\n"
     ]
    }
   ],
   "source": [
    "# ----------------------------------------------------\n",
    "# 5. Handle \"t\"/\"T\" and Convert to Numeric for Nutrient Columns\n",
    "# ----------------------------------------------------\n",
    "numeric_cols = ['Calories', 'Protein', 'Fat', 'Carbs']\n",
    "\n",
    "for col in numeric_cols:\n",
    "    df[col] = df[col].astype(str).str.replace(',', '', regex=False).str.strip()\n",
    "    # Replace 't' or 'T' with NaN to impute trace amounts\n",
    "    df[col] = df[col].replace(['t', 'T'], np.nan)\n",
    "    df[col] = pd.to_numeric(df[col], errors='coerce')\n",
    "    median_val = df[col].median()\n",
    "    if col == 'Fat' and median_val == 0:\n",
    "        df[col].fillna(0.1, inplace=True)\n",
    "    else:\n",
    "        df[col].fillna(median_val, inplace=True)\n",
    "\n",
    "print(\"\\nMissing values in numeric columns after cleaning:\")\n",
    "print(df[numeric_cols].isnull().sum())\n",
    "print(\"\\nDataFrame shape after cleaning:\", df.shape)"
   ]
  },
  {
   "cell_type": "code",
   "execution_count": 25,
   "id": "7ccecb7f-e5a3-4c0a-b986-644e60950bc3",
   "metadata": {},
   "outputs": [],
   "source": [
    "# ----------------------------------------------------\n",
    "# 6. Feature Engineering\n",
    "# ----------------------------------------------------\n",
    "df['name_length'] = df['Food'].apply(len)"
   ]
  },
  {
   "cell_type": "code",
   "execution_count": 26,
   "id": "781d6c50-4a9b-4e91-8ba1-3e6000e9b669",
   "metadata": {},
   "outputs": [
    {
     "data": {
      "image/png": "[encoded data removed]",
      "text/plain": [
       "<Figure size 600x400 with 1 Axes>"
      ]
     },
     "metadata": {},
     "output_type": "display_data"
    },
    {
     "data": {
      "image/png": "[encoded data removed]",
      "text/plain": [
       "<Figure size 600x500 with 2 Axes>"
      ]
     },
     "metadata": {},
     "output_type": "display_data"
    }
   ],
   "source": [
    "# ----------------------------------------------------\n",
    "# 7. Exploratory Data Analysis (Optional)\n",
    "# ----------------------------------------------------\n",
    "plt.figure(figsize=(6, 4))\n",
    "sns.histplot(df['Calories'], kde=True)\n",
    "plt.title('Distribution of Calories')\n",
    "plt.xlabel('Calories')\n",
    "plt.ylabel('Frequency')\n",
    "plt.show()\n",
    "\n",
    "plt.figure(figsize=(6, 5))\n",
    "sns.heatmap(df[numeric_cols].corr(), annot=True, cmap='coolwarm')\n",
    "plt.title('Correlation Matrix of Nutritional Values')\n",
    "plt.show()"
   ]
  },
  {
   "cell_type": "code",
   "execution_count": 27,
   "id": "a905bc13-0bc0-4f8e-a64a-ff2f9b2489fb",
   "metadata": {},
   "outputs": [
    {
     "name": "stdout",
     "output_type": "stream",
     "text": [
      "\n",
      "Training set size: 268\n",
      "Testing set size: 67\n"
     ]
    }
   ],
   "source": [
    "# ----------------------------------------------------\n",
    "# 8. Train-Test Split using the enriched features\n",
    "# ----------------------------------------------------\n",
    "# Now we use the 'description' column plus numeric features.\n",
    "feature_cols = ['description', 'name_length', 'Grams']\n",
    "X = df[feature_cols]\n",
    "y = df[numeric_cols]\n",
    "\n",
    "from sklearn.model_selection import train_test_split\n",
    "X_train, X_test, y_train, y_test = train_test_split(\n",
    "    X, y, test_size=0.2, random_state=42\n",
    ")\n",
    "print(\"\\nTraining set size:\", X_train.shape[0])\n",
    "print(\"Testing set size:\", X_test.shape[0])\n"
   ]
  },
  {
   "cell_type": "code",
   "execution_count": 28,
   "id": "7d9da69f-b473-4617-884d-b59940d79954",
   "metadata": {},
   "outputs": [],
   "source": [
    "# ----------------------------------------------------\n",
    "# 9. Building a ColumnTransformer with the Enriched Features\n",
    "# ----------------------------------------------------\n",
    "# Text transformer for 'description'\n",
    "text_transformer = Pipeline([\n",
    "    ('tfidf', TfidfVectorizer(preprocessor=lemmatize_text))\n",
    "])\n",
    "\n",
    "# Numeric transformer for 'name_length' and 'Grams'\n",
    "num_transformer = Pipeline([\n",
    "    ('scale', StandardScaler())\n",
    "])\n",
    "\n",
    "preprocessor = ColumnTransformer([\n",
    "    ('text', text_transformer, 'description'),\n",
    "    ('num', num_transformer, ['name_length', 'Grams'])\n",
    "])"
   ]
  },
  {
   "cell_type": "code",
   "execution_count": 29,
   "id": "9a05de8b-6cb6-45f2-9b56-afeea8b58eaf",
   "metadata": {},
   "outputs": [],
   "source": [
    "# ----------------------------------------------------\n",
    "# 10. Build the Full Pipeline with RandomForestRegressor\n",
    "# ----------------------------------------------------\n",
    "pipeline_rf = Pipeline([\n",
    "    ('preprocessor', preprocessor),\n",
    "    ('regressor', MultiOutputRegressor(RandomForestRegressor(random_state=42)))\n",
    "])"
   ]
  },
  {
   "cell_type": "code",
   "execution_count": 30,
   "id": "6fe40a71-54cb-4bec-b832-ce25d03f0126",
   "metadata": {},
   "outputs": [
    {
     "name": "stdout",
     "output_type": "stream",
     "text": [
      "\n",
      "Best parameters (RandomForest): {'preprocessor__text__tfidf__max_features': 300, 'regressor__estimator__max_depth': None, 'regressor__estimator__min_samples_split': 2, 'regressor__estimator__n_estimators': 300}\n"
     ]
    }
   ],
   "source": [
    "# ----------------------------------------------------\n",
    "# 11. Expanded Hyperparameter Tuning with GridSearchCV\n",
    "# ----------------------------------------------------\n",
    "\n",
    "param_grid_rf = {\n",
    "    'preprocessor__text__tfidf__max_features': [300, 500, 1000],\n",
    "    'regressor__estimator__n_estimators': [100, 200, 300],\n",
    "    'regressor__estimator__max_depth': [None, 10, 20],\n",
    "    'regressor__estimator__min_samples_split': [2, 5, 10]\n",
    "}\n",
    "\n",
    "grid_search_rf = GridSearchCV(\n",
    "    pipeline_rf,\n",
    "    param_grid_rf,\n",
    "    cv=3,\n",
    "    scoring='neg_mean_absolute_error',\n",
    "    n_jobs=-1\n",
    ")\n",
    "\n",
    "grid_search_rf.fit(X_train, y_train)\n",
    "print(\"\\nBest parameters (RandomForest):\", grid_search_rf.best_params_)\n",
    "best_model_rf = grid_search_rf.best_estimator_"
   ]
  },
  {
   "cell_type": "code",
   "execution_count": 31,
   "id": "9824c425-2e2f-4a6f-b6f9-6eb8b3b3dcf4",
   "metadata": {},
   "outputs": [
    {
     "name": "stdout",
     "output_type": "stream",
     "text": [
      "\n",
      "Best parameters (XGBoost): {'preprocessor__text__tfidf__max_features': 300, 'regressor__estimator__learning_rate': 0.01, 'regressor__estimator__max_depth': 6, 'regressor__estimator__n_estimators': 300}\n"
     ]
    }
   ],
   "source": [
    "# ----------------------------------------------------\n",
    "# 12. Alternative Model Pipeline with XGBoost (Expanded Hyperparameters)\n",
    "# ----------------------------------------------------\n",
    "pipeline_xgb = Pipeline([\n",
    "    ('preprocessor', preprocessor),\n",
    "    ('regressor', MultiOutputRegressor(XGBRegressor(random_state=42, objective='reg:squarederror')))\n",
    "])\n",
    "\n",
    "param_grid_xgb = {\n",
    "    'preprocessor__text__tfidf__max_features': [300, 500, 1000],\n",
    "    'regressor__estimator__n_estimators': [100, 200, 300],\n",
    "    'regressor__estimator__max_depth': [3, 6, 10],\n",
    "    'regressor__estimator__learning_rate': [0.01, 0.1, 0.2]\n",
    "}\n",
    "\n",
    "grid_search_xgb = GridSearchCV(\n",
    "    pipeline_xgb,\n",
    "    param_grid_xgb,\n",
    "    cv=3,\n",
    "    scoring='neg_mean_absolute_error',\n",
    "    n_jobs=-1\n",
    ")\n",
    "\n",
    "grid_search_xgb.fit(X_train, y_train)\n",
    "print(\"\\nBest parameters (XGBoost):\", grid_search_xgb.best_params_)\n",
    "best_model_xgb = grid_search_xgb.best_estimator_"
   ]
  },
  {
   "cell_type": "code",
   "execution_count": 32,
   "id": "19e75752-026c-4961-82db-2ea45ae8eb41",
   "metadata": {},
   "outputs": [
    {
     "name": "stdout",
     "output_type": "stream",
     "text": [
      "\n",
      "Overall Mean Absolute Error (MAE): 22.9281604477612\n",
      "Overall Mean Squared Error (MSE): 3867.0643171770316\n",
      "\n",
      "--- Calories ---\n",
      "MAE: 65.80\n",
      "MSE: 13068.99\n",
      "R² : 0.473\n",
      "\n",
      "--- Protein ---\n",
      "MAE: 6.50\n",
      "MSE: 697.06\n",
      "R² : 0.143\n",
      "\n",
      "--- Fat ---\n",
      "MAE: 8.29\n",
      "MSE: 891.48\n",
      "R² : 0.062\n",
      "\n",
      "--- Carbs ---\n",
      "MAE: 11.13\n",
      "MSE: 810.73\n",
      "R² : 0.211\n"
     ]
    },
    {
     "data": {
      "image/png": "[encoded data removed]",
      "text/plain": [
       "<Figure size 600x400 with 1 Axes>"
      ]
     },
     "metadata": {},
     "output_type": "display_data"
    }
   ],
   "source": [
    "# ----------------------------------------------------\n",
    "# 13. Model Evaluation for the Selected Model (Using the best performing model)\n",
    "# ----------------------------------------------------\n",
    "# Here you may choose the best model based on cross-validation metrics.\n",
    "# For example, you can compare RF vs. XGB on a hold-out set.\n",
    "# Below we evaluate the RandomForest-based model.\n",
    "y_pred = best_model_rf.predict(X_test)\n",
    "\n",
    "mae = mean_absolute_error(y_test, y_pred)\n",
    "mse = mean_squared_error(y_test, y_pred)\n",
    "print(\"\\nOverall Mean Absolute Error (MAE):\", mae)\n",
    "print(\"Overall Mean Squared Error (MSE):\", mse)\n",
    "\n",
    "for i, col in enumerate(numeric_cols):\n",
    "    col_mae = mean_absolute_error(y_test[col], y_pred[:, i])\n",
    "    col_mse = mean_squared_error(y_test[col], y_pred[:, i])\n",
    "    col_r2  = r2_score(y_test[col], y_pred[:, i])\n",
    "    print(f\"\\n--- {col} ---\")\n",
    "    print(f\"MAE: {col_mae:.2f}\")\n",
    "    print(f\"MSE: {col_mse:.2f}\")\n",
    "    print(f\"R² : {col_r2:.3f}\")\n",
    "\n",
    "plt.figure(figsize=(6, 4))\n",
    "plt.scatter(y_test['Calories'], y_pred[:, 0], alpha=0.6)\n",
    "plt.xlabel(\"Actual Calories\")\n",
    "plt.ylabel(\"Predicted Calories\")\n",
    "plt.title(\"Actual vs Predicted Calories\")\n",
    "plt.show()"
   ]
  },
  {
   "cell_type": "code",
   "execution_count": 33,
   "id": "7767d607",
   "metadata": {},
   "outputs": [],
   "source": [
    "# ----------------------------------------------------\n",
    "# 14. Save and Load the Model\n",
    "# ----------------------------------------------------\n",
    "with open('nutrition_model.pkl', 'wb') as f:\n",
    "    pickle.dump(best_model_rf, f)\n",
    "\n",
    "with open('nutrition_model_rf.pkl', 'rb') as f:\n",
    "    loaded_model = pickle.load(f)\n"
   ]
  },
  {
   "cell_type": "code",
   "execution_count": 34,
   "id": "4d8622d9-d254-419d-9c15-c9f564d5b12e",
   "metadata": {},
   "outputs": [
    {
     "name": "stdout",
     "output_type": "stream",
     "text": [
      "\n",
      "Predicted nutritional values for 'apple': {'Calories': 102.02666666666667, 'Protein': 2.4466666666666668, 'Fat': 6.3966666666666665, 'Carbs': 40.36}\n",
      "Product: banana -> Nutrition: {'Calories': 82.1, 'Protein': 2.466666666666667, 'Fat': 7.88, 'Carbs': 19.836666666666666}\n",
      "Product: chicken breast -> Nutrition: {'Calories': 304.8933333333333, 'Protein': 14.78, 'Fat': 8.57, 'Carbs': 7.621333333333332}\n",
      "Product: broccoli -> Nutrition: {'Calories': 30.69, 'Protein': 2.8633333333333333, 'Fat': 6.05, 'Carbs': 7.207666666666667}\n"
     ]
    }
   ],
   "source": [
    "# ----------------------------------------------------\n",
    "# 15. Single Prediction Function (Updated for Enriched Features)\n",
    "# ----------------------------------------------------\n",
    "def predict_nutrition(product_name, category, measure, grams, model):\n",
    "    \"\"\"\n",
    "    Predict the nutritional values for a given product using enriched features.\n",
    "    The new 'description' field is built from Food, Category, and Measure.\n",
    "    \"\"\"\n",
    "    description = f\"{product_name.lower().strip()} {category.strip()} {measure.lower().strip()}\"\n",
    "    row = pd.DataFrame({\n",
    "        'description': [description],\n",
    "        'name_length': [len(product_name)],\n",
    "        'Grams': [grams]\n",
    "    })\n",
    "    preds = model.predict(row)\n",
    "    return dict(zip(numeric_cols, preds[0]))\n",
    "\n",
    "# Test with a single input\n",
    "test_food = \"apple\"\n",
    "test_category = \"Fruits\"    # Ensure this category overlaps with training data.\n",
    "test_measure = \"1 medium\"    # Example measure.\n",
    "test_grams = 182             # Example grams for a medium apple.\n",
    "result = predict_nutrition(test_food, test_category, test_measure, test_grams, best_model_rf)\n",
    "print(f\"\\nPredicted nutritional values for '{test_food}': {result}\")\n",
    "\n",
    "# Testing with multiple inputs\n",
    "test_samples = [\n",
    "    {\"Food\": \"banana\", \"Category\": \"Fruits\", \"Measure\": \"1 medium\", \"Grams\": 118},\n",
    "    {\"Food\": \"chicken breast\", \"Category\": \"Meat\", \"Measure\": \"1 piece\", \"Grams\": 120},\n",
    "    {\"Food\": \"broccoli\", \"Category\": \"Vegetables\", \"Measure\": \"1 cup\", \"Grams\": 91}\n",
    "]\n",
    "\n",
    "for sample in test_samples:\n",
    "    nutrition = predict_nutrition(sample[\"Food\"], sample[\"Category\"],\n",
    "                                  sample[\"Measure\"], sample[\"Grams\"], best_model_rf)\n",
    "    print(f\"Product: {sample['Food']} -> Nutrition: {nutrition}\")"
   ]
  },
  {
   "cell_type": "code",
   "execution_count": null,
   "id": "852fcaa1-ac2d-423d-a12b-63ac12e7b262",
   "metadata": {},
   "outputs": [],
   "source": []
  }
 ],
 "metadata": {
  "kernelspec": {
   "display_name": "Python 3.11",
   "language": "python",
   "name": "python311"
  },
  "language_info": {
   "codemirror_mode": {
    "name": "ipython",
    "version": 3
   },
   "file_extension": ".py",
   "mimetype": "text/x-python",
   "name": "python",
   "nbconvert_exporter": "python",
   "pygments_lexer": "ipython3",
   "version": "3.11.9"
  }
 },
 "nbformat": 4,
 "nbformat_minor": 5
}
